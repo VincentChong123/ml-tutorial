{
 "cells": [
  {
   "cell_type": "markdown",
   "metadata": {},
   "source": [
    "# Background\n",
    "\n",
    "Boosting a learning ensemble modeling for building strong classifiers from various weak classifiers.\n"
   ]
  },
  {
   "cell_type": "markdown",
   "metadata": {
    "vscode": {
     "languageId": "plaintext"
    }
   },
   "source": [
    "# Boosting algorithm"
   ]
  },
  {
   "cell_type": "markdown",
   "metadata": {},
   "source": [
    "## Gradient Boosting Machine (GBM)\n",
    "\n",
    "1. Forward learning ensemble\n",
    "1. For building predictive model targetting regression and classification task\n",
    "1. Whenever a decision tree performs as a weak learner then the resulting algorithm is called gradient-boosted trees.\n",
    "1. Due to leaf-wise split, Light Gradient Boosting Machine (LGBM) algorithm is always preferred over others where a large amount of data is given.\n",
    "\n",
    "### Gradient boosting involves three elements:\n",
    "\n",
    "* A loss function to be optimized.\n",
    "* A weak learner to make predictions.\n",
    "* An additive model to add weak learners to minimize the loss function."
   ]
  },
  {
   "attachments": {
    "e9dcfbc3-4248-4b0a-94e4-855d7bc8fbcc.png": {
     "image/png": "[encoded data removed]"
    }
   },
   "cell_type": "markdown",
   "metadata": {},
   "source": [
    "![image.png](attachment:e9dcfbc3-4248-4b0a-94e4-855d7bc8fbcc.png)\n",
    "\n",
    "source: https://www.javatpoint.com/gbm-in-machine-learning"
   ]
  },
  {
   "cell_type": "markdown",
   "metadata": {},
   "source": [
    "## Extreme Gradient Boosting Machine (XGBM)"
   ]
  },
  {
   "cell_type": "markdown",
   "metadata": {},
   "source": [
    "## Light GBM\n",
    "\n",
    "can handle a huge amount of data without any complexity. On the other hand, it is not suitable for those data points that are lesser in number.\n",
    "\n",
    "due to leaf-wise split, Light Gradient Boosting Machine (LGBM) algorithm is always preferred over others where a large amount of data is given."
   ]
  },
  {
   "cell_type": "markdown",
   "metadata": {},
   "source": [
    "## CatBoost"
   ]
  },
  {
   "cell_type": "markdown",
   "metadata": {},
   "source": [
    "\n",
    "\n",
    "Light GBM\n",
    "CatBoost"
   ]
  },
  {
   "cell_type": "markdown",
   "metadata": {},
   "source": [
    "## Advantages of Boosting Algorithms:\n",
    "Boosting algorithms follow ensemble learning which enables a model to give a more accurate prediction that cannot be trumped.\n",
    "Boosting algorithms are much more flexible than other algorithms as can optimize different loss functions and provides several hyperparameter tuning options.\n",
    "It does not require data pre-processing because it is suitable for both numeric as well as categorical variables.\n",
    "It does not require imputation of missing values in the dataset, it handles missing data automatically.\n",
    "Disadvantages of Boosting Algorithms:\n",
    "ADVERTISEMENT\n",
    "\n",
    "## Below are a few disadvantages of boosting algorithms:\n",
    "\n",
    "Boosting algorithms may cause overfitting as well as overemphasizing the outliers.\n",
    "Gradient boosting algorithm continuously focuses to minimize the errors and requires multiple trees hence, it is computationally expensive.\n",
    "It is a time-consuming and memory exhaustive algorithm.\n",
    "Less interpretative in nature, although this is easily addressed with various tools."
   ]
  },
  {
   "cell_type": "markdown",
   "metadata": {},
   "source": [
    "# FAQ\n",
    "\n",
    "1. What is the difference between boosting and conventional ensemble of model?\n",
    "1. Why call gradient?"
   ]
  },
  {
   "cell_type": "markdown",
   "metadata": {},
   "source": []
  },
  {
   "cell_type": "markdown",
   "metadata": {},
   "source": [
    "# Reference\n",
    "\n",
    "https://www.javatpoint.com/gbm-in-machine-learning\n",
    "\n",
    "http://uc-r.github.io/gbm_regression"
   ]
  },
  {
   "cell_type": "markdown",
   "metadata": {},
   "source": []
  }
 ],
 "metadata": {
  "kernelspec": {
   "display_name": "Python 3 (ipykernel)",
   "language": "python",
   "name": "python3"
  },
  "language_info": {
   "codemirror_mode": {
    "name": "ipython",
    "version": 3
   },
   "file_extension": ".py",
   "mimetype": "text/x-python",
   "name": "python",
   "nbconvert_exporter": "python",
   "pygments_lexer": "ipython3",
   "version": "3.11.5"
  }
 },
 "nbformat": 4,
 "nbformat_minor": 4
}
